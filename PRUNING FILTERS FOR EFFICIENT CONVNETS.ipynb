{
 "cells": [
  {
   "cell_type": "code",
   "execution_count": 194,
   "id": "f98e8afd",
   "metadata": {},
   "outputs": [
    {
     "name": "stdout",
     "output_type": "stream",
     "text": [
      "Collecting git+https://github.com/sovrasov/flops-counter.pytorch.git\n",
      "  Cloning https://github.com/sovrasov/flops-counter.pytorch.git to /private/var/folders/79/dfchmlb91h7c1z8tphnwp1lc0000gn/T/pip-req-build-7p78vh1q\n",
      "  Running command git clone -q https://github.com/sovrasov/flops-counter.pytorch.git /private/var/folders/79/dfchmlb91h7c1z8tphnwp1lc0000gn/T/pip-req-build-7p78vh1q\n",
      "  Resolved https://github.com/sovrasov/flops-counter.pytorch.git to commit deaefe75eaf6f83ca713edee30e82c5da33f6863\n",
      "Requirement already satisfied: torch in /Users/ksangeet/.pyenv/versions/3.8.0/lib/python3.8/site-packages (from ptflops==0.6.6) (1.9.1)\n",
      "Requirement already satisfied: typing-extensions in /Users/ksangeet/.pyenv/versions/3.8.0/lib/python3.8/site-packages (from torch->ptflops==0.6.6) (3.7.4.3)\n",
      "Building wheels for collected packages: ptflops\n",
      "  Building wheel for ptflops (setup.py) ... \u001b[?25ldone\n",
      "\u001b[?25h  Created wheel for ptflops: filename=ptflops-0.6.6-py3-none-any.whl size=9721 sha256=3544062ea245e208783454235e566718fdb36896e4e6670da2d8918a48270cd9\n",
      "  Stored in directory: /private/var/folders/79/dfchmlb91h7c1z8tphnwp1lc0000gn/T/pip-ephem-wheel-cache-6y49bt0e/wheels/f6/86/62/27e886404ba96a65727a9627aa9b0c8089243706ae160bc0c9\n",
      "Successfully built ptflops\n",
      "Installing collected packages: ptflops\n",
      "Successfully installed ptflops-0.6.6\n"
     ]
    }
   ],
   "source": [
    "!pip install --upgrade git+https://github.com/sovrasov/flops-counter.pytorch.git"
   ]
  },
  {
   "cell_type": "code",
   "execution_count": 220,
   "id": "67dc80a9",
   "metadata": {},
   "outputs": [],
   "source": [
    "# structured pruning\n",
    "import torch\n",
    "import torchvision\n",
    "import torch.nn as nn\n",
    "import copy\n",
    "from ptflops import get_model_complexity_info\n",
    "import torchvision.transforms as transforms\n",
    "import torch.optim as optim\n",
    "import torch.nn.functional as F"
   ]
  },
  {
   "cell_type": "code",
   "execution_count": 204,
   "id": "294f5c54",
   "metadata": {},
   "outputs": [],
   "source": [
    "vgg = torchvision.models.vgg16(pretrained=True)\n",
    "vgg_clone = copy.deepcopy(vgg)"
   ]
  },
  {
   "cell_type": "code",
   "execution_count": 205,
   "id": "0d2414d2",
   "metadata": {
    "scrolled": true
   },
   "outputs": [
    {
     "name": "stdout",
     "output_type": "stream",
     "text": [
      "VGG(\n",
      "  138.358 M, 100.000% Params, 15.504 GMac, 100.000% MACs, \n",
      "  (features): Sequential(\n",
      "    14.715 M, 10.635% Params, 15.38 GMac, 99.202% MACs, \n",
      "    (0): Conv2d(0.002 M, 0.001% Params, 0.09 GMac, 0.580% MACs, 3, 64, kernel_size=(3, 3), stride=(1, 1), padding=(1, 1))\n",
      "    (1): ReLU(0.0 M, 0.000% Params, 0.003 GMac, 0.021% MACs, inplace=True)\n",
      "    (2): Conv2d(0.037 M, 0.027% Params, 1.853 GMac, 11.951% MACs, 64, 64, kernel_size=(3, 3), stride=(1, 1), padding=(1, 1))\n",
      "    (3): ReLU(0.0 M, 0.000% Params, 0.003 GMac, 0.021% MACs, inplace=True)\n",
      "    (4): MaxPool2d(0.0 M, 0.000% Params, 0.003 GMac, 0.021% MACs, kernel_size=2, stride=2, padding=0, dilation=1, ceil_mode=False)\n",
      "    (5): Conv2d(0.074 M, 0.053% Params, 0.926 GMac, 5.976% MACs, 64, 128, kernel_size=(3, 3), stride=(1, 1), padding=(1, 1))\n",
      "    (6): ReLU(0.0 M, 0.000% Params, 0.002 GMac, 0.010% MACs, inplace=True)\n",
      "    (7): Conv2d(0.148 M, 0.107% Params, 1.851 GMac, 11.941% MACs, 128, 128, kernel_size=(3, 3), stride=(1, 1), padding=(1, 1))\n",
      "    (8): ReLU(0.0 M, 0.000% Params, 0.002 GMac, 0.010% MACs, inplace=True)\n",
      "    (9): MaxPool2d(0.0 M, 0.000% Params, 0.002 GMac, 0.010% MACs, kernel_size=2, stride=2, padding=0, dilation=1, ceil_mode=False)\n",
      "    (10): Conv2d(0.295 M, 0.213% Params, 0.926 GMac, 5.971% MACs, 128, 256, kernel_size=(3, 3), stride=(1, 1), padding=(1, 1))\n",
      "    (11): ReLU(0.0 M, 0.000% Params, 0.001 GMac, 0.005% MACs, inplace=True)\n",
      "    (12): Conv2d(0.59 M, 0.426% Params, 1.85 GMac, 11.936% MACs, 256, 256, kernel_size=(3, 3), stride=(1, 1), padding=(1, 1))\n",
      "    (13): ReLU(0.0 M, 0.000% Params, 0.001 GMac, 0.005% MACs, inplace=True)\n",
      "    (14): Conv2d(0.59 M, 0.426% Params, 1.85 GMac, 11.936% MACs, 256, 256, kernel_size=(3, 3), stride=(1, 1), padding=(1, 1))\n",
      "    (15): ReLU(0.0 M, 0.000% Params, 0.001 GMac, 0.005% MACs, inplace=True)\n",
      "    (16): MaxPool2d(0.0 M, 0.000% Params, 0.001 GMac, 0.005% MACs, kernel_size=2, stride=2, padding=0, dilation=1, ceil_mode=False)\n",
      "    (17): Conv2d(1.18 M, 0.853% Params, 0.925 GMac, 5.968% MACs, 256, 512, kernel_size=(3, 3), stride=(1, 1), padding=(1, 1))\n",
      "    (18): ReLU(0.0 M, 0.000% Params, 0.0 GMac, 0.003% MACs, inplace=True)\n",
      "    (19): Conv2d(2.36 M, 1.706% Params, 1.85 GMac, 11.933% MACs, 512, 512, kernel_size=(3, 3), stride=(1, 1), padding=(1, 1))\n",
      "    (20): ReLU(0.0 M, 0.000% Params, 0.0 GMac, 0.003% MACs, inplace=True)\n",
      "    (21): Conv2d(2.36 M, 1.706% Params, 1.85 GMac, 11.933% MACs, 512, 512, kernel_size=(3, 3), stride=(1, 1), padding=(1, 1))\n",
      "    (22): ReLU(0.0 M, 0.000% Params, 0.0 GMac, 0.003% MACs, inplace=True)\n",
      "    (23): MaxPool2d(0.0 M, 0.000% Params, 0.0 GMac, 0.003% MACs, kernel_size=2, stride=2, padding=0, dilation=1, ceil_mode=False)\n",
      "    (24): Conv2d(2.36 M, 1.706% Params, 0.463 GMac, 2.983% MACs, 512, 512, kernel_size=(3, 3), stride=(1, 1), padding=(1, 1))\n",
      "    (25): ReLU(0.0 M, 0.000% Params, 0.0 GMac, 0.001% MACs, inplace=True)\n",
      "    (26): Conv2d(2.36 M, 1.706% Params, 0.463 GMac, 2.983% MACs, 512, 512, kernel_size=(3, 3), stride=(1, 1), padding=(1, 1))\n",
      "    (27): ReLU(0.0 M, 0.000% Params, 0.0 GMac, 0.001% MACs, inplace=True)\n",
      "    (28): Conv2d(2.36 M, 1.706% Params, 0.463 GMac, 2.983% MACs, 512, 512, kernel_size=(3, 3), stride=(1, 1), padding=(1, 1))\n",
      "    (29): ReLU(0.0 M, 0.000% Params, 0.0 GMac, 0.001% MACs, inplace=True)\n",
      "    (30): MaxPool2d(0.0 M, 0.000% Params, 0.0 GMac, 0.001% MACs, kernel_size=2, stride=2, padding=0, dilation=1, ceil_mode=False)\n",
      "  )\n",
      "  (avgpool): AdaptiveAvgPool2d(0.0 M, 0.000% Params, 0.0 GMac, 0.000% MACs, output_size=(7, 7))\n",
      "  (classifier): Sequential(\n",
      "    123.643 M, 89.365% Params, 0.124 GMac, 0.798% MACs, \n",
      "    (0): Linear(102.765 M, 74.275% Params, 0.103 GMac, 0.663% MACs, in_features=25088, out_features=4096, bias=True)\n",
      "    (1): ReLU(0.0 M, 0.000% Params, 0.0 GMac, 0.000% MACs, inplace=True)\n",
      "    (2): Dropout(0.0 M, 0.000% Params, 0.0 GMac, 0.000% MACs, p=0.5, inplace=False)\n",
      "    (3): Linear(16.781 M, 12.129% Params, 0.017 GMac, 0.108% MACs, in_features=4096, out_features=4096, bias=True)\n",
      "    (4): ReLU(0.0 M, 0.000% Params, 0.0 GMac, 0.000% MACs, inplace=True)\n",
      "    (5): Dropout(0.0 M, 0.000% Params, 0.0 GMac, 0.000% MACs, p=0.5, inplace=False)\n",
      "    (6): Linear(4.097 M, 2.961% Params, 0.004 GMac, 0.026% MACs, in_features=4096, out_features=1000, bias=True)\n",
      "  )\n",
      ")\n"
     ]
    }
   ],
   "source": [
    "macs, params = get_model_complexity_info(vgg, (3, 224, 224), as_strings=True,\n",
    "                                         print_per_layer_stat=True)"
   ]
  },
  {
   "cell_type": "code",
   "execution_count": 206,
   "id": "76e2d217",
   "metadata": {},
   "outputs": [
    {
     "data": {
      "text/plain": [
       "'15.5 GMac'"
      ]
     },
     "execution_count": 206,
     "metadata": {},
     "output_type": "execute_result"
    }
   ],
   "source": [
    "macs"
   ]
  },
  {
   "cell_type": "code",
   "execution_count": 207,
   "id": "7b8a0207",
   "metadata": {},
   "outputs": [
    {
     "data": {
      "text/plain": [
       "'138.36 M'"
      ]
     },
     "execution_count": 207,
     "metadata": {},
     "output_type": "execute_result"
    }
   ],
   "source": [
    "params"
   ]
  },
  {
   "cell_type": "code",
   "execution_count": 148,
   "id": "71a65eed",
   "metadata": {
    "scrolled": true
   },
   "outputs": [
    {
     "data": {
      "text/plain": [
       "[[[[-0.16350622475147247, -0.07401609420776367, -0.056053344160318375],\n",
       "   [0.2588668167591095, -0.3263116478919983, -0.029506804421544075],\n",
       "   [-0.1876847892999649, -0.1301329880952835, -0.38299739360809326]],\n",
       "  [[0.03429652377963066, 0.051587656140327454, -0.12162038683891296],\n",
       "   [0.1635763943195343, -0.3160349130630493, -0.30577000975608826],\n",
       "   [-0.0678848922252655, -0.393067866563797, 0.33400794863700867]],\n",
       "  [[0.2784968614578247, -0.09737075120210648, 0.07903378456830978],\n",
       "   [-0.2351754605770111, 0.47510629892349243, 0.18458431959152222],\n",
       "   [-0.38135212659835815, -0.013502813875675201, -0.0532434917986393]]],\n",
       " [[[-0.28504395484924316, -0.51447993516922, -0.28853124380111694],\n",
       "   [0.27803173661231995, 0.4745214283466339, -0.16598549485206604],\n",
       "   [0.22634132206439972, 0.3654625415802002, -0.03362951800227165]],\n",
       "  [[0.057958390563726425, 0.3123165965080261, 0.11660321056842804],\n",
       "   [-0.10809456557035446, 0.1941748857498169, 0.13881708681583405],\n",
       "   [0.006201550830155611, 0.2177067995071411, 0.28745466470718384]],\n",
       "  [[0.07760951668024063, -0.22972679138183594, 0.5815222263336182],\n",
       "   [-0.5454313158988953, -0.14993596076965332, 1.0],\n",
       "   [-0.010235984809696674, 0.0946827307343483, -0.3508927524089813]]],\n",
       " [[[0.08214529603719711, 0.07472691684961319, -0.1758713275194168],\n",
       "   [0.07109013199806213, -0.25793886184692383, -0.26708725094795227],\n",
       "   [-0.12856288254261017, 0.3185936212539673, 0.07879222184419632]],\n",
       "  [[-0.33014166355133057, 0.35993003845214844, 0.42858970165252686],\n",
       "   [-0.08960733562707901, -0.515556275844574, -0.3457002341747284],\n",
       "   [-0.16212838888168335, -0.21654129028320312, -0.13912701606750488]],\n",
       "  [[-0.015155571512877941, -0.017983771860599518, 0.380700021982193],\n",
       "   [-0.008100406266748905, -0.09413236379623413, 0.1374666839838028],\n",
       "   [0.07067956775426865, 0.1624513864517212, 0.7264593839645386]]],\n",
       " [[[-0.22536388039588928, -0.11860749870538712, -0.24309735000133514],\n",
       "   [0.0790054202079773, -0.18420180678367615, 0.3599528670310974],\n",
       "   [0.323795348405838, 0.31923773884773254, -0.09763283282518387]],\n",
       "  [[-0.03143776208162308, -0.04711061343550682, 0.2926572859287262],\n",
       "   [-0.2401546835899353, 0.4024023711681366, 0.27479875087738037],\n",
       "   [0.20513218641281128, -0.48135024309158325, -0.09073308855295181]],\n",
       "  [[-0.08055334538221359, -0.21209758520126343, 0.2888936996459961],\n",
       "   [0.04095941409468651, 0.3085976541042328, 0.38911688327789307],\n",
       "   [-0.13038744032382965, -0.1440657079219818, -0.15327486395835876]]]]"
      ]
     },
     "execution_count": 148,
     "metadata": {},
     "output_type": "execute_result"
    }
   ],
   "source": [
    "a = torch.randn((4, 3, 3, 3))\n",
    "a[:,[0,1],:,:].shape\n",
    "(a / torch.max(a)).tolist()"
   ]
  },
  {
   "cell_type": "code",
   "execution_count": 110,
   "id": "50468088",
   "metadata": {},
   "outputs": [
    {
     "data": {
      "text/plain": [
       "[VGG(\n",
       "   (features): Sequential(\n",
       "     (0): Conv2d(3, 64, kernel_size=(3, 3), stride=(1, 1), padding=(1, 1))\n",
       "     (1): ReLU(inplace=True)\n",
       "     (2): Conv2d(64, 64, kernel_size=(3, 3), stride=(1, 1), padding=(1, 1))\n",
       "     (3): ReLU(inplace=True)\n",
       "     (4): MaxPool2d(kernel_size=2, stride=2, padding=0, dilation=1, ceil_mode=False)\n",
       "     (5): Conv2d(64, 128, kernel_size=(3, 3), stride=(1, 1), padding=(1, 1))\n",
       "     (6): ReLU(inplace=True)\n",
       "     (7): Conv2d(128, 128, kernel_size=(3, 3), stride=(1, 1), padding=(1, 1))\n",
       "     (8): ReLU(inplace=True)\n",
       "     (9): MaxPool2d(kernel_size=2, stride=2, padding=0, dilation=1, ceil_mode=False)\n",
       "     (10): Conv2d(128, 256, kernel_size=(3, 3), stride=(1, 1), padding=(1, 1))\n",
       "     (11): ReLU(inplace=True)\n",
       "     (12): Conv2d(256, 256, kernel_size=(3, 3), stride=(1, 1), padding=(1, 1))\n",
       "     (13): ReLU(inplace=True)\n",
       "     (14): Conv2d(256, 256, kernel_size=(3, 3), stride=(1, 1), padding=(1, 1))\n",
       "     (15): ReLU(inplace=True)\n",
       "     (16): MaxPool2d(kernel_size=2, stride=2, padding=0, dilation=1, ceil_mode=False)\n",
       "     (17): Conv2d(256, 512, kernel_size=(3, 3), stride=(1, 1), padding=(1, 1))\n",
       "     (18): ReLU(inplace=True)\n",
       "     (19): Conv2d(512, 512, kernel_size=(3, 3), stride=(1, 1), padding=(1, 1))\n",
       "     (20): ReLU(inplace=True)\n",
       "     (21): Conv2d(512, 512, kernel_size=(3, 3), stride=(1, 1), padding=(1, 1))\n",
       "     (22): ReLU(inplace=True)\n",
       "     (23): MaxPool2d(kernel_size=2, stride=2, padding=0, dilation=1, ceil_mode=False)\n",
       "     (24): Conv2d(512, 512, kernel_size=(3, 3), stride=(1, 1), padding=(1, 1))\n",
       "     (25): ReLU(inplace=True)\n",
       "     (26): Conv2d(512, 512, kernel_size=(3, 3), stride=(1, 1), padding=(1, 1))\n",
       "     (27): ReLU(inplace=True)\n",
       "     (28): Conv2d(512, 512, kernel_size=(3, 3), stride=(1, 1), padding=(1, 1))\n",
       "     (29): ReLU(inplace=True)\n",
       "     (30): MaxPool2d(kernel_size=2, stride=2, padding=0, dilation=1, ceil_mode=False)\n",
       "   )\n",
       "   (avgpool): AdaptiveAvgPool2d(output_size=(7, 7))\n",
       "   (classifier): Sequential(\n",
       "     (0): Linear(in_features=25088, out_features=4096, bias=True)\n",
       "     (1): ReLU(inplace=True)\n",
       "     (2): Dropout(p=0.5, inplace=False)\n",
       "     (3): Linear(in_features=4096, out_features=4096, bias=True)\n",
       "     (4): ReLU(inplace=True)\n",
       "     (5): Dropout(p=0.5, inplace=False)\n",
       "     (6): Linear(in_features=4096, out_features=1000, bias=True)\n",
       "   )\n",
       " ),\n",
       " Sequential(\n",
       "   (0): Conv2d(3, 64, kernel_size=(3, 3), stride=(1, 1), padding=(1, 1))\n",
       "   (1): ReLU(inplace=True)\n",
       "   (2): Conv2d(64, 64, kernel_size=(3, 3), stride=(1, 1), padding=(1, 1))\n",
       "   (3): ReLU(inplace=True)\n",
       "   (4): MaxPool2d(kernel_size=2, stride=2, padding=0, dilation=1, ceil_mode=False)\n",
       "   (5): Conv2d(64, 128, kernel_size=(3, 3), stride=(1, 1), padding=(1, 1))\n",
       "   (6): ReLU(inplace=True)\n",
       "   (7): Conv2d(128, 128, kernel_size=(3, 3), stride=(1, 1), padding=(1, 1))\n",
       "   (8): ReLU(inplace=True)\n",
       "   (9): MaxPool2d(kernel_size=2, stride=2, padding=0, dilation=1, ceil_mode=False)\n",
       "   (10): Conv2d(128, 256, kernel_size=(3, 3), stride=(1, 1), padding=(1, 1))\n",
       "   (11): ReLU(inplace=True)\n",
       "   (12): Conv2d(256, 256, kernel_size=(3, 3), stride=(1, 1), padding=(1, 1))\n",
       "   (13): ReLU(inplace=True)\n",
       "   (14): Conv2d(256, 256, kernel_size=(3, 3), stride=(1, 1), padding=(1, 1))\n",
       "   (15): ReLU(inplace=True)\n",
       "   (16): MaxPool2d(kernel_size=2, stride=2, padding=0, dilation=1, ceil_mode=False)\n",
       "   (17): Conv2d(256, 512, kernel_size=(3, 3), stride=(1, 1), padding=(1, 1))\n",
       "   (18): ReLU(inplace=True)\n",
       "   (19): Conv2d(512, 512, kernel_size=(3, 3), stride=(1, 1), padding=(1, 1))\n",
       "   (20): ReLU(inplace=True)\n",
       "   (21): Conv2d(512, 512, kernel_size=(3, 3), stride=(1, 1), padding=(1, 1))\n",
       "   (22): ReLU(inplace=True)\n",
       "   (23): MaxPool2d(kernel_size=2, stride=2, padding=0, dilation=1, ceil_mode=False)\n",
       "   (24): Conv2d(512, 512, kernel_size=(3, 3), stride=(1, 1), padding=(1, 1))\n",
       "   (25): ReLU(inplace=True)\n",
       "   (26): Conv2d(512, 512, kernel_size=(3, 3), stride=(1, 1), padding=(1, 1))\n",
       "   (27): ReLU(inplace=True)\n",
       "   (28): Conv2d(512, 512, kernel_size=(3, 3), stride=(1, 1), padding=(1, 1))\n",
       "   (29): ReLU(inplace=True)\n",
       "   (30): MaxPool2d(kernel_size=2, stride=2, padding=0, dilation=1, ceil_mode=False)\n",
       " ),\n",
       " Conv2d(3, 64, kernel_size=(3, 3), stride=(1, 1), padding=(1, 1)),\n",
       " ReLU(inplace=True),\n",
       " Conv2d(64, 64, kernel_size=(3, 3), stride=(1, 1), padding=(1, 1)),\n",
       " ReLU(inplace=True),\n",
       " MaxPool2d(kernel_size=2, stride=2, padding=0, dilation=1, ceil_mode=False),\n",
       " Conv2d(64, 128, kernel_size=(3, 3), stride=(1, 1), padding=(1, 1)),\n",
       " ReLU(inplace=True),\n",
       " Conv2d(128, 128, kernel_size=(3, 3), stride=(1, 1), padding=(1, 1)),\n",
       " ReLU(inplace=True),\n",
       " MaxPool2d(kernel_size=2, stride=2, padding=0, dilation=1, ceil_mode=False),\n",
       " Conv2d(128, 256, kernel_size=(3, 3), stride=(1, 1), padding=(1, 1)),\n",
       " ReLU(inplace=True),\n",
       " Conv2d(256, 256, kernel_size=(3, 3), stride=(1, 1), padding=(1, 1)),\n",
       " ReLU(inplace=True),\n",
       " Conv2d(256, 256, kernel_size=(3, 3), stride=(1, 1), padding=(1, 1)),\n",
       " ReLU(inplace=True),\n",
       " MaxPool2d(kernel_size=2, stride=2, padding=0, dilation=1, ceil_mode=False),\n",
       " Conv2d(256, 512, kernel_size=(3, 3), stride=(1, 1), padding=(1, 1)),\n",
       " ReLU(inplace=True),\n",
       " Conv2d(512, 512, kernel_size=(3, 3), stride=(1, 1), padding=(1, 1)),\n",
       " ReLU(inplace=True),\n",
       " Conv2d(512, 512, kernel_size=(3, 3), stride=(1, 1), padding=(1, 1)),\n",
       " ReLU(inplace=True),\n",
       " MaxPool2d(kernel_size=2, stride=2, padding=0, dilation=1, ceil_mode=False),\n",
       " Conv2d(512, 512, kernel_size=(3, 3), stride=(1, 1), padding=(1, 1)),\n",
       " ReLU(inplace=True),\n",
       " Conv2d(512, 512, kernel_size=(3, 3), stride=(1, 1), padding=(1, 1)),\n",
       " ReLU(inplace=True),\n",
       " Conv2d(512, 512, kernel_size=(3, 3), stride=(1, 1), padding=(1, 1)),\n",
       " ReLU(inplace=True),\n",
       " MaxPool2d(kernel_size=2, stride=2, padding=0, dilation=1, ceil_mode=False),\n",
       " AdaptiveAvgPool2d(output_size=(7, 7)),\n",
       " Sequential(\n",
       "   (0): Linear(in_features=25088, out_features=4096, bias=True)\n",
       "   (1): ReLU(inplace=True)\n",
       "   (2): Dropout(p=0.5, inplace=False)\n",
       "   (3): Linear(in_features=4096, out_features=4096, bias=True)\n",
       "   (4): ReLU(inplace=True)\n",
       "   (5): Dropout(p=0.5, inplace=False)\n",
       "   (6): Linear(in_features=4096, out_features=1000, bias=True)\n",
       " ),\n",
       " Linear(in_features=25088, out_features=4096, bias=True),\n",
       " ReLU(inplace=True),\n",
       " Dropout(p=0.5, inplace=False),\n",
       " Linear(in_features=4096, out_features=4096, bias=True),\n",
       " ReLU(inplace=True),\n",
       " Dropout(p=0.5, inplace=False),\n",
       " Linear(in_features=4096, out_features=1000, bias=True)]"
      ]
     },
     "execution_count": 110,
     "metadata": {},
     "output_type": "execute_result"
    }
   ],
   "source": [
    "list(vgg.modules())"
   ]
  },
  {
   "cell_type": "code",
   "execution_count": 184,
   "id": "251ad671",
   "metadata": {},
   "outputs": [
    {
     "data": {
      "text/plain": [
       "torch.Size([1, 64, 5, 7])"
      ]
     },
     "execution_count": 184,
     "metadata": {},
     "output_type": "execute_result"
    }
   ],
   "source": [
    "m = nn.AdaptiveAvgPool2d((5,7))\n",
    "input = torch.randn(1, 64, 8, 9)\n",
    "output = m(input)\n",
    "output.shape"
   ]
  },
  {
   "cell_type": "code",
   "execution_count": 149,
   "id": "d0942ef1",
   "metadata": {
    "scrolled": true
   },
   "outputs": [
    {
     "name": "stdout",
     "output_type": "stream",
     "text": [
      "<class 'torch.nn.modules.conv.Conv2d'>\n",
      "<class 'torch.nn.modules.activation.ReLU'>\n",
      "<class 'torch.nn.modules.conv.Conv2d'>\n",
      "<class 'torch.nn.modules.activation.ReLU'>\n",
      "<class 'torch.nn.modules.pooling.MaxPool2d'>\n",
      "<class 'torch.nn.modules.conv.Conv2d'>\n",
      "<class 'torch.nn.modules.activation.ReLU'>\n",
      "<class 'torch.nn.modules.conv.Conv2d'>\n",
      "<class 'torch.nn.modules.activation.ReLU'>\n",
      "<class 'torch.nn.modules.pooling.MaxPool2d'>\n",
      "<class 'torch.nn.modules.conv.Conv2d'>\n",
      "<class 'torch.nn.modules.activation.ReLU'>\n",
      "<class 'torch.nn.modules.conv.Conv2d'>\n",
      "<class 'torch.nn.modules.activation.ReLU'>\n",
      "<class 'torch.nn.modules.conv.Conv2d'>\n",
      "<class 'torch.nn.modules.activation.ReLU'>\n",
      "<class 'torch.nn.modules.pooling.MaxPool2d'>\n",
      "<class 'torch.nn.modules.conv.Conv2d'>\n",
      "<class 'torch.nn.modules.activation.ReLU'>\n",
      "<class 'torch.nn.modules.conv.Conv2d'>\n",
      "<class 'torch.nn.modules.activation.ReLU'>\n",
      "<class 'torch.nn.modules.conv.Conv2d'>\n",
      "<class 'torch.nn.modules.activation.ReLU'>\n",
      "<class 'torch.nn.modules.pooling.MaxPool2d'>\n",
      "<class 'torch.nn.modules.conv.Conv2d'>\n",
      "<class 'torch.nn.modules.activation.ReLU'>\n",
      "<class 'torch.nn.modules.conv.Conv2d'>\n",
      "<class 'torch.nn.modules.activation.ReLU'>\n",
      "<class 'torch.nn.modules.conv.Conv2d'>\n",
      "<class 'torch.nn.modules.activation.ReLU'>\n",
      "<class 'torch.nn.modules.pooling.MaxPool2d'>\n",
      "<class 'torch.nn.modules.pooling.AdaptiveAvgPool2d'>\n",
      "<class 'torch.nn.modules.linear.Linear'>\n",
      "<class 'torch.nn.modules.activation.ReLU'>\n",
      "<class 'torch.nn.modules.dropout.Dropout'>\n",
      "<class 'torch.nn.modules.linear.Linear'>\n",
      "<class 'torch.nn.modules.activation.ReLU'>\n",
      "<class 'torch.nn.modules.dropout.Dropout'>\n",
      "<class 'torch.nn.modules.linear.Linear'>\n"
     ]
    }
   ],
   "source": [
    "for module in vgg.modules():\n",
    "    if isinstance(module, torchvision.models.vgg.VGG):\n",
    "        continue\n",
    "    if not isinstance(module, nn.Sequential):\n",
    "        print(type(module))"
   ]
  },
  {
   "cell_type": "code",
   "execution_count": 150,
   "id": "2666386a",
   "metadata": {},
   "outputs": [
    {
     "data": {
      "image/png": "[encoded data removed]",
      "text/plain": [
       "<Figure size 432x288 with 1 Axes>"
      ]
     },
     "metadata": {
      "needs_background": "light"
     },
     "output_type": "display_data"
    }
   ],
   "source": [
    "import matplotlib.pyplot as plt\n",
    "import numpy as np\n",
    "plt.xlim([0, 140])\n",
    "conv_layers_nb = 0\n",
    "conv_filters_nb = 0\n",
    "for i in range(len(vgg.features)):\n",
    "    module = vgg.features[i]\n",
    "    if isinstance(module, nn.Conv2d):\n",
    "        conv_layers_nb += 1\n",
    "        conv_filters_nb += module.weight.shape[0]\n",
    "        with torch.no_grad():\n",
    "            x_axis = [i / module.weight.shape[0] * 100 for i in range(module.weight.shape[0])]\n",
    "            ranks = torch.sum(torch.abs(module.weight), (1,2,3))\n",
    "            y_axis = (torch.sort(ranks, descending=True)[0] / torch.max(ranks)).numpy().reshape(-1).tolist()\n",
    "        plt.plot(np.linspace(0,100,len(y_axis)), y_axis)\n",
    "plt.legend([f'conv_{i+1}' for i in range(conv_layers_nb)])\n",
    "plt.show()"
   ]
  },
  {
   "cell_type": "code",
   "execution_count": 151,
   "id": "b3b60b47",
   "metadata": {},
   "outputs": [
    {
     "data": {
      "text/plain": [
       "4224"
      ]
     },
     "execution_count": 151,
     "metadata": {},
     "output_type": "execute_result"
    }
   ],
   "source": [
    "conv_filters_nb"
   ]
  },
  {
   "cell_type": "code",
   "execution_count": 265,
   "id": "c0183edc",
   "metadata": {
    "scrolled": true
   },
   "outputs": [
    {
     "name": "stdout",
     "output_type": "stream",
     "text": [
      "Conv2d(3, 64, kernel_size=(3, 3), stride=(1, 1), padding=(1, 1))\n",
      "ReLU(inplace=True)\n",
      "Conv2d(64, 64, kernel_size=(3, 3), stride=(1, 1), padding=(1, 1))\n",
      "ReLU(inplace=True)\n",
      "MaxPool2d(kernel_size=2, stride=2, padding=0, dilation=1, ceil_mode=False)\n",
      "Conv2d(64, 128, kernel_size=(3, 3), stride=(1, 1), padding=(1, 1))\n",
      "ReLU(inplace=True)\n",
      "Conv2d(128, 128, kernel_size=(3, 3), stride=(1, 1), padding=(1, 1))\n",
      "ReLU(inplace=True)\n",
      "MaxPool2d(kernel_size=2, stride=2, padding=0, dilation=1, ceil_mode=False)\n",
      "Conv2d(128, 256, kernel_size=(3, 3), stride=(1, 1), padding=(1, 1))\n",
      "ReLU(inplace=True)\n",
      "Conv2d(256, 256, kernel_size=(3, 3), stride=(1, 1), padding=(1, 1))\n",
      "ReLU(inplace=True)\n",
      "Conv2d(256, 256, kernel_size=(3, 3), stride=(1, 1), padding=(1, 1))\n",
      "ReLU(inplace=True)\n",
      "MaxPool2d(kernel_size=2, stride=2, padding=0, dilation=1, ceil_mode=False)\n",
      "Conv2d(256, 512, kernel_size=(3, 3), stride=(1, 1), padding=(1, 1))\n",
      "ReLU(inplace=True)\n",
      "Conv2d(512, 512, kernel_size=(3, 3), stride=(1, 1), padding=(1, 1))\n",
      "ReLU(inplace=True)\n",
      "Conv2d(512, 512, kernel_size=(3, 3), stride=(1, 1), padding=(1, 1))\n",
      "ReLU(inplace=True)\n",
      "MaxPool2d(kernel_size=2, stride=2, padding=0, dilation=1, ceil_mode=False)\n",
      "Conv2d(512, 512, kernel_size=(3, 3), stride=(1, 1), padding=(1, 1))\n",
      "ReLU(inplace=True)\n",
      "Conv2d(512, 512, kernel_size=(3, 3), stride=(1, 1), padding=(1, 1))\n",
      "ReLU(inplace=True)\n",
      "Conv2d(512, 512, kernel_size=(3, 3), stride=(1, 1), padding=(1, 1))\n",
      "ReLU(inplace=True)\n",
      "MaxPool2d(kernel_size=2, stride=2, padding=0, dilation=1, ceil_mode=False)\n",
      "Linear(in_features=25088, out_features=4096, bias=True)\n",
      "ReLU(inplace=True)\n",
      "Dropout(p=0.5, inplace=False)\n",
      "Linear(in_features=4096, out_features=4096, bias=True)\n",
      "ReLU(inplace=True)\n",
      "Dropout(p=0.5, inplace=False)\n",
      "Linear(in_features=4096, out_features=1000, bias=True)\n"
     ]
    }
   ],
   "source": [
    "for module in vgg.modules():\n",
    "    if isinstance(module, nn.Sequential):\n",
    "        for i, module in module.named_children():\n",
    "            print(module)"
   ]
  },
  {
   "cell_type": "code",
   "execution_count": 159,
   "id": "65ba2d3a",
   "metadata": {
    "scrolled": true
   },
   "outputs": [
    {
     "name": "stdout",
     "output_type": "stream",
     "text": [
      "torch.Size([4096, 25088])\n",
      "torch.Size([4096, 4096])\n",
      "torch.Size([1000, 4096])\n"
     ]
    }
   ],
   "source": [
    "import inspect\n",
    "for i in range(len(vgg.classifier)):\n",
    "    module = vgg.classifier[i]\n",
    "#     print(module)\n",
    "#     if hasattr(module, 'weight'):\n",
    "#         print(type(module))\n",
    "    if isinstance(module, nn.Linear):\n",
    "        print(module.weight.shape)\n",
    "#     if isinstance(module, nn.Conv2d):\n",
    "#         ranks = torch.sum(torch.abs(module.weight), (1, 2, 3))\n",
    "#         print(ranks);\n",
    "#         indices = torch.topk(ranks,3).indices\n",
    "#         selected = [i for i in range(module.weight.shape[0]) if i not in indices]\n",
    "#         print(module.weight.data[selected].shape); \n",
    "#         print(module.bias.data[selected].shape); break"
   ]
  },
  {
   "cell_type": "code",
   "execution_count": 186,
   "id": "374e0ee7",
   "metadata": {},
   "outputs": [
    {
     "data": {
      "text/plain": [
       "(7, 7)"
      ]
     },
     "execution_count": 186,
     "metadata": {},
     "output_type": "execute_result"
    }
   ],
   "source": [
    "vgg.avgpool.output_size"
   ]
  },
  {
   "cell_type": "code",
   "execution_count": 377,
   "id": "36846b47",
   "metadata": {},
   "outputs": [],
   "source": [
    "# greedy - consider weights pruned from previous layer while computing the ranks, independent - do not consider\n",
    "CONV_LAYERS = 2\n",
    "def prune(model, prune_layer_index, filters_to_prune: int):\n",
    "    # default - greedy strategy\n",
    "    def get_updated_conv(layer, weight_prune_index: torch.Tensor, layer_index: int) -> None:\n",
    "        assert(indices is not None)\n",
    "        selected = [i for i in range(layer.weight.shape[0]) if i not in weight_prune_index]\n",
    "            # ignoring the other parameters for now like groups etc\n",
    "        conv = nn.Conv2d(in_channels=layer.in_channels, \n",
    "                         out_channels=layer.out_channels-len(weight_prune_index),\n",
    "                         kernel_size=layer.kernel_size, stride=layer.stride, dilation=layer.dilation,\n",
    "                         padding=layer.padding)\n",
    "        conv.weight.data = layer.weight.data[selected]\n",
    "        conv.bias.data = layer.bias.data[selected]\n",
    "        model.features[i] = conv\n",
    "        \n",
    "        for j in range(layer_index+1, len(model.features)):\n",
    "            if hasattr(model.features[j], 'weight'):\n",
    "                if isinstance(model.features[j], nn.Conv2d):\n",
    "                    next_layer = model.features[j]\n",
    "                    conv = nn.Conv2d(in_channels=next_layer.in_channels-len(weight_prune_index),\n",
    "                                     out_channels=next_layer.out_channels,\n",
    "                                     kernel_size=next_layer.kernel_size, stride=next_layer.stride, dilation=next_layer.dilation,\n",
    "                                     padding=next_layer.padding)\n",
    "                    conv.weight.data = next_layer.weight.data[:,selected,:,:]\n",
    "                    conv.bias.data = next_layer.bias.data\n",
    "                    model.features[j] = conv\n",
    "                    break\n",
    "                elif isinstance(model.features[j], nn.BatchNorm2d):\n",
    "                    next_layer = model.features[j]\n",
    "                    norm = nn.BatchNorm2d(num_features=next_layer.num_features-len(weight_prune_index),\n",
    "                                          eps=next_layer.eps, momentum=next_layer.momentum, affine=next_layer.affine,\n",
    "                                          track_running_stats=next_layer.track_running_stats)\n",
    "                    norm.weight.data = next_layer.weight.data[selected]\n",
    "                    norm.bias.data = next_layer.bias.data[selected]\n",
    "                    if next_layer.track_running_stats:\n",
    "                        norm.running_mean.data = next_layer.running_mean.data[selected]\n",
    "                        norm.running_var.data = next_layer.running_var.data[selected]\n",
    "                    model.features[j] = norm\n",
    "                else:\n",
    "                    raise Exception(f'Unsupported module type: {type(model.features[j])}')\n",
    "        if prune_layer_index == CONV_LAYERS: # last conv layer\n",
    "            for j in range(len(model.classifier)):\n",
    "                if hasattr(model.classifier[j], 'weight'):\n",
    "                    if isinstance(model.classifier[j], nn.Linear):\n",
    "                        next_layer = model.classifier[j]\n",
    "                        linear = nn.Linear(in_features=next_layer.in_features-len(weight_prune_index), \\\n",
    "                                           out_features=next_layer.out_features)\n",
    "                        weights = next_layer.weight.data\n",
    "                        weights = weights.view(next_layer.out_features, \n",
    "                                               layer.out_channels, -1)\n",
    "                        linear.weight.data = weights[:,selected,:].view(next_layer.out_features,-1)\n",
    "                        linear.bias.data = next_layer.bias.data\n",
    "                        model.classifier[j] = linear\n",
    "                        break\n",
    "                else:\n",
    "                    raise Exception(f'Unsupported module type: {type(model.classifier[j])}')\n",
    "                   \n",
    "    conv_layer_num = 0\n",
    "    for i in range(len(model.features)):\n",
    "        module = model.features[i]\n",
    "        if isinstance(module, nn.Conv2d):\n",
    "            conv_layer_num += 1\n",
    "            if conv_layer_num == prune_layer_index:\n",
    "                filter_scores = torch.sum(torch.abs(module.weight),(1,2,3))\n",
    "                indices = torch.topk(filter_scores, filters_to_prune).indices\n",
    "                get_updated_conv(module, indices, i)"
   ]
  },
  {
   "cell_type": "raw",
   "id": "ce80311b",
   "metadata": {},
   "source": [
    "prune(vgg_clone, 13, 3)"
   ]
  },
  {
   "cell_type": "code",
   "execution_count": 410,
   "id": "069e1443",
   "metadata": {
    "scrolled": true
   },
   "outputs": [
    {
     "name": "stdout",
     "output_type": "stream",
     "text": [
      "Warning: variables __flops__ or __params__ are already defined for the moduleConv2d ptflops can affect your code!\n",
      "Warning: variables __flops__ or __params__ are already defined for the moduleReLU ptflops can affect your code!\n",
      "Warning: variables __flops__ or __params__ are already defined for the moduleBatchNorm2d ptflops can affect your code!\n",
      "Warning: variables __flops__ or __params__ are already defined for the moduleMaxPool2d ptflops can affect your code!\n",
      "Warning: variables __flops__ or __params__ are already defined for the moduleConv2d ptflops can affect your code!\n",
      "Warning: variables __flops__ or __params__ are already defined for the moduleReLU ptflops can affect your code!\n",
      "Warning: variables __flops__ or __params__ are already defined for the moduleBatchNorm2d ptflops can affect your code!\n",
      "Warning: variables __flops__ or __params__ are already defined for the moduleMaxPool2d ptflops can affect your code!\n",
      "Warning: variables __flops__ or __params__ are already defined for the moduleLinear ptflops can affect your code!\n",
      "Warning: variables __flops__ or __params__ are already defined for the moduleReLU ptflops can affect your code!\n",
      "Warning: variables __flops__ or __params__ are already defined for the moduleLinear ptflops can affect your code!\n",
      "Warning: variables __flops__ or __params__ are already defined for the moduleReLU ptflops can affect your code!\n",
      "Warning: variables __flops__ or __params__ are already defined for the moduleLinear ptflops can affect your code!\n",
      "Net(\n",
      "  0.051 M, 100.000% Params, 0.0 GMac, 100.000% MACs, \n",
      "  (features): Sequential(\n",
      "    0.001 M, 2.429% Params, 0.0 GMac, 85.303% MACs, \n",
      "    (0): Conv2d(0.0 M, 0.444% Params, 0.0 GMac, 52.191% MACs, 3, 3, kernel_size=(5, 5), stride=(1, 1))\n",
      "    (1): ReLU(0.0 M, 0.000% Params, 0.0 GMac, 0.687% MACs, )\n",
      "    (2): BatchNorm2d(0.0 M, 0.012% Params, 0.0 GMac, 1.373% MACs, 3, eps=1e-05, momentum=0.1, affine=True, track_running_stats=True)\n",
      "    (3): MaxPool2d(0.0 M, 0.000% Params, 0.0 GMac, 0.687% MACs, kernel_size=2, stride=2, padding=0, dilation=1, ceil_mode=False)\n",
      "    (4): Conv2d(0.001 M, 1.923% Params, 0.0 GMac, 28.847% MACs, 3, 13, kernel_size=(5, 5), stride=(1, 1))\n",
      "    (5): ReLU(0.0 M, 0.000% Params, 0.0 GMac, 0.380% MACs, )\n",
      "    (6): BatchNorm2d(0.0 M, 0.051% Params, 0.0 GMac, 0.759% MACs, 13, eps=1e-05, momentum=0.1, affine=True, track_running_stats=True)\n",
      "    (7): MaxPool2d(0.0 M, 0.000% Params, 0.0 GMac, 0.380% MACs, kernel_size=2, stride=2, padding=0, dilation=1, ceil_mode=False)\n",
      "  )\n",
      "  (classifier): Sequential(\n",
      "    0.05 M, 97.571% Params, 0.0 GMac, 14.697% MACs, \n",
      "    (0): Linear(0.039 M, 76.136% Params, 0.0 GMac, 11.422% MACs, in_features=397, out_features=120, bias=True)\n",
      "    (1): ReLU(0.0 M, 0.000% Params, 0.0 GMac, 0.035% MACs, )\n",
      "    (2): Linear(0.01 M, 19.781% Params, 0.0 GMac, 2.968% MACs, in_features=120, out_features=84, bias=True)\n",
      "    (3): ReLU(0.0 M, 0.000% Params, 0.0 GMac, 0.025% MACs, )\n",
      "    (4): Linear(0.001 M, 1.654% Params, 0.0 GMac, 0.248% MACs, in_features=84, out_features=10, bias=True)\n",
      "  )\n",
      ")\n"
     ]
    }
   ],
   "source": [
    "macs, params = get_model_complexity_info(net_clone, (3, 32, 32), as_strings=True,\n",
    "                                         print_per_layer_stat=True)"
   ]
  },
  {
   "cell_type": "code",
   "execution_count": 211,
   "id": "ba7ea147",
   "metadata": {},
   "outputs": [
    {
     "data": {
      "text/plain": [
       "'15.5 GMac'"
      ]
     },
     "execution_count": 211,
     "metadata": {},
     "output_type": "execute_result"
    }
   ],
   "source": [
    "macs"
   ]
  },
  {
   "cell_type": "code",
   "execution_count": 158,
   "id": "97020b74",
   "metadata": {
    "scrolled": true
   },
   "outputs": [
    {
     "name": "stdout",
     "output_type": "stream",
     "text": [
      "torch.Size([64, 3, 3, 3])\n",
      "torch.Size([64, 64, 3, 3])\n",
      "torch.Size([128, 64, 3, 3])\n",
      "torch.Size([128, 128, 3, 3])\n",
      "torch.Size([256, 128, 3, 3])\n",
      "torch.Size([256, 256, 3, 3])\n",
      "torch.Size([256, 256, 3, 3])\n",
      "torch.Size([512, 256, 3, 3])\n",
      "torch.Size([512, 512, 3, 3])\n",
      "torch.Size([512, 512, 3, 3])\n",
      "torch.Size([512, 512, 3, 3])\n",
      "torch.Size([512, 512, 3, 3])\n",
      "torch.Size([509, 512, 3, 3])\n",
      "torch.Size([4096, 25088])\n",
      "torch.Size([4096, 4096])\n",
      "torch.Size([1000, 4096])\n"
     ]
    }
   ],
   "source": [
    "for i in range(len(vgg_clone.features)):\n",
    "    module = vgg_clone.features[i]\n",
    "    if isinstance(module, nn.Conv2d):\n",
    "        print(module.weight.shape)\n",
    "for i in range(len(vgg_clone.classifier)):\n",
    "    module = vgg_clone.classifier[i]\n",
    "    if isinstance(module, nn.Linear):\n",
    "        print(module.weight.shape)"
   ]
  },
  {
   "cell_type": "code",
   "execution_count": 344,
   "id": "9461667e",
   "metadata": {},
   "outputs": [
    {
     "name": "stdout",
     "output_type": "stream",
     "text": [
      "Files already downloaded and verified\n",
      "Files already downloaded and verified\n"
     ]
    }
   ],
   "source": [
    "# Training a neural network architechture from scratch for CIFAR10\n",
    "transform = transforms.Compose([\n",
    "    transforms.ToTensor(),\n",
    "    transforms.Normalize((0.5, 0.5, 0.5), (0.5, 0.5, 0.5))\n",
    "])\n",
    "batch_size = 8\n",
    "\n",
    "trainset = torchvision.datasets.CIFAR10(root='./data', train=True,\n",
    "                                        download=True, transform=transform)\n",
    "trainloader = torch.utils.data.DataLoader(trainset, batch_size=batch_size,\n",
    "                                          shuffle=True, num_workers=2)\n",
    "\n",
    "testset = torchvision.datasets.CIFAR10(root='./data', train=False,\n",
    "                                       download=True, transform=transform)\n",
    "testloader = torch.utils.data.DataLoader(testset, batch_size=batch_size,\n",
    "                                         shuffle=False, num_workers=2)\n",
    "\n",
    "classes = ('plane', 'car', 'bird', 'cat',\n",
    "           'deer', 'dog', 'frog', 'horse', 'ship', 'truck')"
   ]
  },
  {
   "cell_type": "code",
   "execution_count": 345,
   "id": "ce2c659b",
   "metadata": {},
   "outputs": [
    {
     "name": "stdout",
     "output_type": "stream",
     "text": [
      "tensor(-0.9843) tensor(1.)\n"
     ]
    },
    {
     "data": {
      "image/png": "[encoded data removed]",
      "text/plain": [
       "<Figure size 432x288 with 1 Axes>"
      ]
     },
     "metadata": {
      "needs_background": "light"
     },
     "output_type": "display_data"
    },
    {
     "name": "stdout",
     "output_type": "stream",
     "text": [
      "  car  frog horse   dog  bird  frog  bird truck\n"
     ]
    }
   ],
   "source": [
    "import matplotlib.pyplot as plt\n",
    "import numpy as np\n",
    "\n",
    "# functions to show an image\n",
    "# (x - mu) / sigma -> y -> y * 0.5 + 0.5\n",
    "\n",
    "def imshow(img):\n",
    "    img = img / 2 + 0.5     # unnormalize\n",
    "    npimg = img.numpy()\n",
    "    plt.imshow(np.transpose(npimg, (1, 2, 0)))\n",
    "    plt.show()\n",
    "\n",
    "\n",
    "# get some random training images\n",
    "dataiter = iter(trainloader)\n",
    "images, labels = dataiter.next()\n",
    "print(images[0].min(), images[0].max())\n",
    "\n",
    "# show images\n",
    "imshow(torchvision.utils.make_grid(images))\n",
    "# print labels\n",
    "print(' '.join('%5s' % classes[labels[j]] for j in range(batch_size)))"
   ]
  },
  {
   "cell_type": "code",
   "execution_count": 346,
   "id": "59e737d8",
   "metadata": {},
   "outputs": [],
   "source": [
    "class Net(nn.Module):\n",
    "    def __init__(self):\n",
    "        super().__init__()\n",
    "        self.features = nn.Sequential(*[\n",
    "            nn.Conv2d(3, 6, 5), nn.ReLU(), nn.BatchNorm2d(6), nn.MaxPool2d(2, 2),\n",
    "            nn.Conv2d(6, 16, 5), nn.ReLU(), nn.BatchNorm2d(16), nn.MaxPool2d(2, 2)\n",
    "        ])\n",
    "        self.classifier = nn.Sequential(*[\n",
    "            nn.Linear(16 * 5 * 5, 120), nn.ReLU(),\n",
    "            nn.Linear(120, 84), nn.ReLU(),\n",
    "            nn.Linear(84, 10)\n",
    "        ])\n",
    "\n",
    "    def forward(self, x):\n",
    "        x = self.features(x)\n",
    "        x = torch.flatten(x, 1) \n",
    "        x = self.classifier(x)\n",
    "        return x"
   ]
  },
  {
   "cell_type": "code",
   "execution_count": 396,
   "id": "c0596eaf",
   "metadata": {},
   "outputs": [],
   "source": [
    "net_clone = copy.deepcopy(net)"
   ]
  },
  {
   "cell_type": "code",
   "execution_count": 398,
   "id": "f48897f6",
   "metadata": {},
   "outputs": [],
   "source": [
    "prune(net_clone, 2, 3)\n",
    "prune(net_clone, 1, 3)"
   ]
  },
  {
   "cell_type": "code",
   "execution_count": 399,
   "id": "89128971",
   "metadata": {},
   "outputs": [
    {
     "name": "stdout",
     "output_type": "stream",
     "text": [
      "torch.Size([120, 325])\n",
      "torch.Size([84, 120])\n",
      "torch.Size([10, 84])\n"
     ]
    }
   ],
   "source": [
    "for i in range(len(net_clone.classifier)):\n",
    "    module = net_clone.classifier[i]\n",
    "    if isinstance(module, nn.Linear):\n",
    "        print(module.weight.shape)"
   ]
  },
  {
   "cell_type": "code",
   "execution_count": 349,
   "id": "3422e7a5",
   "metadata": {},
   "outputs": [],
   "source": [
    "net = Net()\n",
    "criterion = nn.CrossEntropyLoss()\n",
    "optimizer = optim.SGD(net.parameters(), lr=0.001, momentum=0.9)\n",
    "scheduler = torch.optim.lr_scheduler.OneCycleLR(optimizer, max_lr=0.01, steps_per_epoch=len(trainloader), epochs=2)"
   ]
  },
  {
   "cell_type": "code",
   "execution_count": 352,
   "id": "27848f32",
   "metadata": {
    "scrolled": true
   },
   "outputs": [
    {
     "name": "stdout",
     "output_type": "stream",
     "text": [
      "[1,  2000] loss: 1.057\n",
      "[1,  4000] loss: 1.066\n",
      "[1,  6000] loss: 1.067\n",
      "[2,  2000] loss: 0.982\n",
      "[2,  4000] loss: 1.002\n",
      "[2,  6000] loss: 0.990\n",
      "[3,  2000] loss: 0.932\n",
      "[3,  4000] loss: 0.942\n",
      "[3,  6000] loss: 0.938\n",
      "[4,  2000] loss: 0.872\n",
      "[4,  4000] loss: 0.884\n",
      "[4,  6000] loss: 0.893\n",
      "[5,  2000] loss: 0.816\n",
      "[5,  4000] loss: 0.854\n",
      "[5,  6000] loss: 0.862\n",
      "[6,  2000] loss: 0.794\n",
      "[6,  4000] loss: 0.810\n",
      "[6,  6000] loss: 0.815\n",
      "[7,  2000] loss: 0.742\n",
      "[7,  4000] loss: 0.786\n",
      "[7,  6000] loss: 0.791\n",
      "[8,  2000] loss: 0.719\n",
      "[8,  4000] loss: 0.745\n",
      "[8,  6000] loss: 0.767\n",
      "[9,  2000] loss: 0.689\n",
      "[9,  4000] loss: 0.720\n",
      "[9,  6000] loss: 0.740\n",
      "[10,  2000] loss: 0.672\n",
      "[10,  4000] loss: 0.691\n",
      "[10,  6000] loss: 0.713\n",
      "CPU times: user 7min 58s, sys: 1min 13s, total: 9min 11s\n",
      "Wall time: 10min 3s\n"
     ]
    }
   ],
   "source": [
    "%%time\n",
    "EPOCHS = 10\n",
    "for epoch in range(EPOCHS):  # loop over the dataset multiple times\n",
    "\n",
    "    running_loss = 0.0\n",
    "    for i, data in enumerate(trainloader, 0):\n",
    "        inputs, labels = data\n",
    "        optimizer.zero_grad()\n",
    "        outputs = net(inputs)\n",
    "        loss = criterion(outputs, labels)\n",
    "        loss.backward()\n",
    "        optimizer.step()\n",
    "        running_loss += loss.item()\n",
    "        if i % 2000 == 1999:\n",
    "            print('[%d, %5d] loss: %.3f' %\n",
    "                  (epoch + 1, i + 1, running_loss / 2000))\n",
    "            running_loss = 0.0\n",
    "    scheduler.step()"
   ]
  },
  {
   "cell_type": "code",
   "execution_count": 400,
   "id": "bb173516",
   "metadata": {},
   "outputs": [
    {
     "name": "stdout",
     "output_type": "stream",
     "text": [
      "Accuracy of the network on the 10000 test images: 64 %\n",
      "CPU times: user 2.7 s, sys: 483 ms, total: 3.18 s\n",
      "Wall time: 13.7 s\n"
     ]
    }
   ],
   "source": [
    "%%time\n",
    "correct = 0\n",
    "total = 0\n",
    "# since we're not training, we don't need to calculate the gradients for our outputs\n",
    "with torch.no_grad():\n",
    "    for data in testloader:\n",
    "        images, labels = data\n",
    "        # calculate outputs by running images through the network\n",
    "        outputs = net(images)\n",
    "        # the class with the highest energy is what we choose as prediction\n",
    "        _, predicted = torch.max(outputs.data, 1)\n",
    "        total += labels.size(0)\n",
    "        correct += (predicted == labels).sum().item()\n",
    "\n",
    "print('Accuracy of the network on the 10000 test images: %d %%' % (\n",
    "    100 * correct / total))"
   ]
  },
  {
   "cell_type": "code",
   "execution_count": 403,
   "id": "47b5b165",
   "metadata": {},
   "outputs": [
    {
     "name": "stdout",
     "output_type": "stream",
     "text": [
      "Accuracy of the network on the 10000 test images: 59 %\n",
      "CPU times: user 2.96 s, sys: 591 ms, total: 3.55 s\n",
      "Wall time: 14.5 s\n"
     ]
    }
   ],
   "source": [
    "%%time\n",
    "correct = 0\n",
    "total = 0\n",
    "# since we're not training, we don't need to calculate the gradients for our outputs\n",
    "with torch.no_grad():\n",
    "    for data in testloader:\n",
    "        images, labels = data\n",
    "        # calculate outputs by running images through the network\n",
    "        outputs = net_clone(images)\n",
    "        # the class with the highest energy is what we choose as prediction\n",
    "        _, predicted = torch.max(outputs.data, 1)\n",
    "        total += labels.size(0)\n",
    "        correct += (predicted == labels).sum().item()\n",
    "\n",
    "print('Accuracy of the network on the 10000 test images: %d %%' % (\n",
    "    100 * correct / total))"
   ]
  },
  {
   "cell_type": "code",
   "execution_count": 402,
   "id": "89ac0b4d",
   "metadata": {
    "scrolled": true
   },
   "outputs": [
    {
     "name": "stdout",
     "output_type": "stream",
     "text": [
      "[1,  2000] loss: 1.411\n",
      "[1,  4000] loss: 1.263\n",
      "[1,  6000] loss: 1.193\n",
      "[2,  2000] loss: 1.107\n",
      "[2,  4000] loss: 1.106\n",
      "[2,  6000] loss: 1.097\n",
      "[3,  2000] loss: 1.019\n",
      "[3,  4000] loss: 1.031\n",
      "[3,  6000] loss: 1.033\n",
      "[4,  2000] loss: 0.973\n",
      "[4,  4000] loss: 0.967\n",
      "[4,  6000] loss: 0.982\n",
      "[5,  2000] loss: 0.912\n",
      "[5,  4000] loss: 0.928\n",
      "[5,  6000] loss: 0.957\n",
      "[6,  2000] loss: 0.878\n",
      "[6,  4000] loss: 0.929\n",
      "[6,  6000] loss: 0.914\n",
      "[7,  2000] loss: 0.845\n",
      "[7,  4000] loss: 0.870\n",
      "[7,  6000] loss: 0.903\n",
      "[8,  2000] loss: 0.816\n",
      "[8,  4000] loss: 0.852\n",
      "[8,  6000] loss: 0.871\n",
      "[9,  2000] loss: 0.798\n",
      "[9,  4000] loss: 0.829\n",
      "[9,  6000] loss: 0.847\n",
      "[10,  2000] loss: 0.770\n",
      "[10,  4000] loss: 0.800\n",
      "[10,  6000] loss: 0.828\n"
     ]
    }
   ],
   "source": [
    "# retraining the pruned network\n",
    "EPOCHS = 10\n",
    "criterion = nn.CrossEntropyLoss()\n",
    "optimizer = optim.SGD(net_clone.parameters(), lr=0.001, momentum=0.9)\n",
    "scheduler = torch.optim.lr_scheduler.OneCycleLR(optimizer, max_lr=0.01, steps_per_epoch=len(trainloader), epochs=EPOCHS)\n",
    "for epoch in range(EPOCHS):  # loop over the dataset multiple times\n",
    "\n",
    "    running_loss = 0.0\n",
    "    for i, data in enumerate(trainloader, 0):\n",
    "        inputs, labels = data\n",
    "        optimizer.zero_grad()\n",
    "        outputs = net_clone(inputs)\n",
    "        loss = criterion(outputs, labels)\n",
    "        loss.backward()\n",
    "        optimizer.step()\n",
    "        running_loss += loss.item()\n",
    "        if i % 2000 == 1999:\n",
    "            print('[%d, %5d] loss: %.3f' %\n",
    "                  (epoch + 1, i + 1, running_loss / 2000))\n",
    "            running_loss = 0.0\n",
    "    scheduler.step()"
   ]
  },
  {
   "cell_type": "code",
   "execution_count": 404,
   "id": "57131a18",
   "metadata": {},
   "outputs": [],
   "source": [
    "PATH = './cifar_net.pth'\n",
    "torch.save(net.state_dict(), PATH)"
   ]
  },
  {
   "cell_type": "code",
   "execution_count": 405,
   "id": "97073239",
   "metadata": {},
   "outputs": [],
   "source": [
    "PATH = './cifar_net_clone.pth'\n",
    "torch.save(net_clone.state_dict(), PATH)"
   ]
  },
  {
   "cell_type": "code",
   "execution_count": 407,
   "id": "f4bdd544",
   "metadata": {},
   "outputs": [
    {
     "name": "stdout",
     "output_type": "stream",
     "text": [
      "total 11024\r\n",
      "-rw-r--r--  1 ksangeet  staff   136K Oct  4 00:51 PRUNING FILTERS FOR EFFICIENT CONVNETS.ipynb\r\n",
      "-rw-r--r--  1 ksangeet  staff   248K Oct  4 00:52 cifar_net.pth\r\n",
      "-rw-r--r--  1 ksangeet  staff   206K Oct  4 00:52 cifar_net_clone.pth\r\n",
      "drwxr-xr-x  4 ksangeet  staff   128B Oct  2 04:16 \u001b[1m\u001b[36mdata\u001b[m\u001b[m\r\n",
      "-rw-r--r--@ 1 ksangeet  staff   4.8M Sep 25 21:32 model.onnx\r\n",
      "-rwxr-xr-x  1 ksangeet  staff   5.4K Sep 27 10:38 \u001b[31mpruning.py\u001b[m\u001b[m\r\n",
      "-rw-r--r--@ 1 ksangeet  staff   4.4K Sep 26 22:53 vpg.py\r\n"
     ]
    }
   ],
   "source": [
    "!ls -lh"
   ]
  }
 ],
 "metadata": {
  "kernelspec": {
   "display_name": "Python 3 (ipykernel)",
   "language": "python",
   "name": "python3"
  },
  "language_info": {
   "codemirror_mode": {
    "name": "ipython",
    "version": 3
   },
   "file_extension": ".py",
   "mimetype": "text/x-python",
   "name": "python",
   "nbconvert_exporter": "python",
   "pygments_lexer": "ipython3",
   "version": "3.8.0"
  }
 },
 "nbformat": 4,
 "nbformat_minor": 5
}
